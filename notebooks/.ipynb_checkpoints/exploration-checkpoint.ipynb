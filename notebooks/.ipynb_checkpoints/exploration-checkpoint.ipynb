{
 "cells": [
  {
   "cell_type": "code",
   "execution_count": 1,
   "metadata": {},
   "outputs": [],
   "source": [
    "import pandas as pd"
   ]
  },
  {
   "cell_type": "code",
   "execution_count": 32,
   "metadata": {},
   "outputs": [],
   "source": [
    "DATA_PATH = '../data/'\n",
    "excel_file = pd.ExcelFile(DATA_PATH + 'crime_per_canton.xlsx')\n",
    "\n",
    "canton_dfs = {}\n",
    "sheet_names = excel_file.sheet_names\n",
    "sheet_names.remove('Total')\n",
    "for sheet in sheet_names:\n",
    "    canton_dfs[sheet] = pd.read_excel(excel_file, sheet, skiprows=[0] + list(range(25, 32)))\n",
    "    canton_dfs[sheet].rename(columns={'Unnamed: 0': 'Code', 'Unnamed: 1': 'Crime Type'}, inplace=True)"
   ]
  },
  {
   "cell_type": "code",
   "execution_count": 33,
   "metadata": {},
   "outputs": [
    {
     "data": {
      "text/html": [
       "<div>\n",
       "<style scoped>\n",
       "    .dataframe tbody tr th:only-of-type {\n",
       "        vertical-align: middle;\n",
       "    }\n",
       "\n",
       "    .dataframe tbody tr th {\n",
       "        vertical-align: top;\n",
       "    }\n",
       "\n",
       "    .dataframe thead th {\n",
       "        text-align: right;\n",
       "    }\n",
       "</style>\n",
       "<table border=\"1\" class=\"dataframe\">\n",
       "  <thead>\n",
       "    <tr style=\"text-align: right;\">\n",
       "      <th></th>\n",
       "      <th>Code</th>\n",
       "      <th>Crime Type</th>\n",
       "      <th>1984</th>\n",
       "      <th>1985</th>\n",
       "      <th>1986</th>\n",
       "      <th>1987</th>\n",
       "      <th>1988</th>\n",
       "      <th>1989</th>\n",
       "      <th>1990</th>\n",
       "      <th>1991</th>\n",
       "      <th>...</th>\n",
       "      <th>2008</th>\n",
       "      <th>2009</th>\n",
       "      <th>2010</th>\n",
       "      <th>2011</th>\n",
       "      <th>2012</th>\n",
       "      <th>2013</th>\n",
       "      <th>2014</th>\n",
       "      <th>2015</th>\n",
       "      <th>2016</th>\n",
       "      <th>2017</th>\n",
       "    </tr>\n",
       "  </thead>\n",
       "  <tbody>\n",
       "    <tr>\n",
       "      <th>0</th>\n",
       "      <td>Total ¹</td>\n",
       "      <td>Violence</td>\n",
       "      <td>183</td>\n",
       "      <td>154</td>\n",
       "      <td>177</td>\n",
       "      <td>188</td>\n",
       "      <td>189</td>\n",
       "      <td>200</td>\n",
       "      <td>186</td>\n",
       "      <td>166</td>\n",
       "      <td>...</td>\n",
       "      <td>676</td>\n",
       "      <td>766</td>\n",
       "      <td>845</td>\n",
       "      <td>773</td>\n",
       "      <td>886</td>\n",
       "      <td>1093</td>\n",
       "      <td>1094</td>\n",
       "      <td>1126</td>\n",
       "      <td>1114</td>\n",
       "      <td>959</td>\n",
       "    </tr>\n",
       "    <tr>\n",
       "      <th>1</th>\n",
       "      <td>Total ¹</td>\n",
       "      <td>Severe violence (exercise of violence)</td>\n",
       "      <td>15</td>\n",
       "      <td>25</td>\n",
       "      <td>24</td>\n",
       "      <td>24</td>\n",
       "      <td>26</td>\n",
       "      <td>22</td>\n",
       "      <td>26</td>\n",
       "      <td>27</td>\n",
       "      <td>...</td>\n",
       "      <td>48</td>\n",
       "      <td>42</td>\n",
       "      <td>47</td>\n",
       "      <td>35</td>\n",
       "      <td>36</td>\n",
       "      <td>41</td>\n",
       "      <td>53</td>\n",
       "      <td>49</td>\n",
       "      <td>63</td>\n",
       "      <td>38</td>\n",
       "    </tr>\n",
       "  </tbody>\n",
       "</table>\n",
       "<p>2 rows × 36 columns</p>\n",
       "</div>"
      ],
      "text/plain": [
       "      Code                              Crime Type  1984  1985  1986  1987  \\\n",
       "0  Total ¹                                Violence   183   154   177   188   \n",
       "1  Total ¹  Severe violence (exercise of violence)    15    25    24    24   \n",
       "\n",
       "   1988  1989  1990  1991  ...   2008  2009  2010  2011  2012  2013  2014  \\\n",
       "0   189   200   186   166  ...    676   766   845   773   886  1093  1094   \n",
       "1    26    22    26    27  ...     48    42    47    35    36    41    53   \n",
       "\n",
       "   2015  2016  2017  \n",
       "0  1126  1114   959  \n",
       "1    49    63    38  \n",
       "\n",
       "[2 rows x 36 columns]"
      ]
     },
     "execution_count": 33,
     "metadata": {},
     "output_type": "execute_result"
    }
   ],
   "source": [
    "canton_dfs['VD'].head(2)"
   ]
  },
  {
   "cell_type": "code",
   "execution_count": 48,
   "metadata": {},
   "outputs": [
    {
     "name": "stdout",
     "output_type": "stream",
     "text": [
      "Total Crime per Canton\n",
      "AG => 514\n",
      "AI => 8\n",
      "AR => 31\n",
      "BE => 960\n",
      "BL => 113\n",
      "BS => 341\n",
      "FR => 398\n",
      "GE => 777\n",
      "GL => 38\n",
      "GR => 93\n",
      "JU => 96\n",
      "LU => 328\n",
      "NE => 279\n",
      "NW => 15\n",
      "OW => 34\n",
      "SG => 316\n",
      "SH => 84\n",
      "SO => 215\n",
      "SZ => 67\n",
      "TG => 159\n",
      "TI => 294\n",
      "UR => 9\n",
      "VD => 959\n",
      "VS => 359\n",
      "ZG => 92\n",
      "ZH => 1008\n"
     ]
    }
   ],
   "source": [
    "print(\"Total Crime per Canton\")\n",
    "for canton in canton_dfs:\n",
    "    df = canton_dfs[canton]\n",
    "    violence = df[2017][0]\n",
    "    print('{0} => {1}'.format(canton, violence))"
   ]
  },
  {
   "cell_type": "code",
   "execution_count": null,
   "metadata": {},
   "outputs": [],
   "source": []
  }
 ],
 "metadata": {
  "kernelspec": {
   "display_name": "Python 3",
   "language": "python",
   "name": "python3"
  },
  "language_info": {
   "codemirror_mode": {
    "name": "ipython",
    "version": 3
   },
   "file_extension": ".py",
   "mimetype": "text/x-python",
   "name": "python",
   "nbconvert_exporter": "python",
   "pygments_lexer": "ipython3",
   "version": "3.7.0"
  }
 },
 "nbformat": 4,
 "nbformat_minor": 2
}
