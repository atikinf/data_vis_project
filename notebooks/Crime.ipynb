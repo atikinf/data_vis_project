{
 "cells": [
  {
   "cell_type": "code",
   "execution_count": 1,
   "metadata": {},
   "outputs": [],
   "source": [
    "import os\n",
    "import re\n",
    "import math\n",
    "import pandas as pd\n",
    "import numpy as np\n",
    "import json\n",
    "import folium\n",
    "from folium import plugins\n",
    "from folium.plugins import HeatMap\n",
    "from shapely.geometry import shape, Point\n",
    "import matplotlib\n",
    "import matplotlib.pyplot as plt\n",
    "import seaborn as sns\n",
    "%matplotlib inline\n",
    "import findspark\n",
    "findspark.init()\n",
    "\n",
    "from pyspark.sql import *\n",
    "from pyspark.sql.functions import *\n",
    "\n",
    "from IPython.core.display import display, HTML\n",
    "\n",
    "# Turn slice copy warnings off\n",
    "pd.options.mode.chained_assignment = None\n",
    "\n",
    "import findspark\n",
    "findspark.init()\n",
    "from pyspark.sql import *\n",
    "from pyspark.sql.functions import *\n",
    "from pyspark.sql.functions import min\n",
    "from pyspark.sql.types import ArrayType, StringType, DoubleType, IntegerType, FloatType\n",
    "\n",
    "from pyspark.sql import SparkSession\n",
    "from pyspark import SparkContext\n",
    "\n",
    "spark = SparkSession.builder.getOrCreate()\n",
    "sc = spark.sparkContext"
   ]
  },
  {
   "cell_type": "code",
   "execution_count": 2,
   "metadata": {},
   "outputs": [],
   "source": [
    "data_folder = './data/'"
   ]
  },
  {
   "cell_type": "markdown",
   "metadata": {},
   "source": [
    "### Crime Data Exploration"
   ]
  },
  {
   "cell_type": "markdown",
   "metadata": {},
   "source": [
    "This dataset examins NYPD complaint data from 2006 through 2017, giving us information about crime trends throughout that time period. The data is taken from New York City's opendata website, and the exact source is given in our project's readme. Let's start off by writing the data to a parquet file, which we will load to cut down on run times.\n",
    "\n",
    "#### Data Cleaning and Preprocessing"
   ]
  },
  {
   "cell_type": "code",
   "execution_count": 3,
   "metadata": {},
   "outputs": [],
   "source": [
    "df = spark.read.csv(data_folder + \"NYPD_Complaint_Data_Historic.csv\")\n",
    "df.write.mode(\"overwrite\").parquet(data_folder + \"nypd.parquet\")\n",
    "df = spark.read.parquet(data_folder + \"nypd.parquet\")"
   ]
  },
  {
   "cell_type": "code",
   "execution_count": 4,
   "metadata": {},
   "outputs": [
    {
     "name": "stdout",
     "output_type": "stream",
     "text": [
      "+---------+----------+--------+----------+--------+---+----------+---+--------------------+---+--------------------+---------+-----------+---------+------+--------------------+----------------+----+----+----+----+-------+------+----+-----+----+----+------------+-------------+--------------------+--------------------+----+-----+-------+----+\n",
      "|      _c0|       _c1|     _c2|       _c3|     _c4|_c5|       _c6|_c7|                 _c8|_c9|                _c10|     _c11|       _c12|     _c13|  _c14|                _c15|            _c16|_c17|_c18|_c19|_c20|   _c21|  _c22|_c23| _c24|_c25|_c26|        _c27|         _c28|                _c29|                _c30|_c31| _c32|   _c33|_c34|\n",
      "+---------+----------+--------+----------+--------+---+----------+---+--------------------+---+--------------------+---------+-----------+---------+------+--------------------+----------------+----+----+----+----+-------+------+----+-----+----+----+------------+-------------+--------------------+--------------------+----+-----+-------+----+\n",
      "|595775572|10/30/2008|12:00:00|      null|    null| 75|10/30/2008|109|       GRAND LARCENY|415|LARCENY,GRAND FRO...|COMPLETED|     FELONY| BROOKLYN|  null|              STREET|N.Y. POLICE DEPT|   0|  NA|null|  NA|1012249|181792|null|BLACK|   F|null|40.665617714|-73.899076401|(40.665617714, -7...|PATROL BORO BKLYN...|null|  <18|  BLACK|   F|\n",
      "|375177250|10/30/2008|12:00:00|10/30/2008|12:12:00| 14|10/30/2008|341|       PETIT LARCENY|333|LARCENY,PETIT FRO...|COMPLETED|MISDEMEANOR|MANHATTAN|INSIDE|    DEPARTMENT STORE|N.Y. POLICE DEPT|   0|  NA|null|  NA| 986455|213102|null| null|null|null|40.751600254|-73.992043061|(40.751600254, -7...|PATROL BORO MAN S...|null| null|UNKNOWN|   D|\n",
      "|513357035|10/30/2008|12:00:00|10/30/2008|13:30:00| 77|10/30/2008|351|CRIMINAL MISCHIEF...|254|MISCHIEF, CRIMINA...|COMPLETED|MISDEMEANOR| BROOKLYN|INSIDE|              STREET|N.Y. POLICE DEPT|   0|  NA|null|  NA| 997769|185912|null| null|null|null|40.676960141|-73.951262652|(40.676960141, -7...|PATROL BORO BKLYN...|null|25-44|  WHITE|   M|\n",
      "|508797540|10/30/2008|11:55:00|      null|    null| 47|10/30/2008|117|     DANGEROUS DRUGS|568|MARIJUANA, POSSES...|COMPLETED|     FELONY|    BRONX|INSIDE|     RESIDENCE-HOUSE|N.Y. POLICE DEPT|   0|  NA|null|  NA|1028599|258289|null| null|null|null|40.875514819|-73.839636601|(40.875514819, -7...|   PATROL BORO BRONX|null| null|UNKNOWN|   E|\n",
      "|539937322|10/30/2008|11:55:00|10/30/2008|12:15:00| 67|10/30/2008|126|MISCELLANEOUS PEN...|198| CRIMINAL CONTEMPT 1|COMPLETED|     FELONY| BROOKLYN|INSIDE|RESIDENCE - APT. ...|N.Y. POLICE DEPT|   0|  NA|null|  NA| 998504|173213|null| null|null|null|40.642103028|-73.948639667|(40.642103028, -7...|PATROL BORO BKLYN...|null|18-24|  BLACK|   F|\n",
      "+---------+----------+--------+----------+--------+---+----------+---+--------------------+---+--------------------+---------+-----------+---------+------+--------------------+----------------+----+----+----+----+-------+------+----+-----+----+----+------------+-------------+--------------------+--------------------+----+-----+-------+----+\n",
      "only showing top 5 rows\n",
      "\n"
     ]
    }
   ],
   "source": [
    "df.show(5)"
   ]
  },
  {
   "cell_type": "markdown",
   "metadata": {},
   "source": [
    "Let's rename the columns to column names from the dataset description to make future manipulations easier."
   ]
  },
  {
   "cell_type": "code",
   "execution_count": 5,
   "metadata": {},
   "outputs": [
    {
     "name": "stdout",
     "output_type": "stream",
     "text": [
      "+---------+------------+------------+------------+------------+-----------+----------+-----+--------------------+-----+--------------------+---------------+-----------+---------+------------+--------------------+----------------+----------+--------+----------+-----------+----------+----------+--------------+---------+--------+----------+------------+-------------+--------------------+--------------------+------------+-------------+--------+-------+\n",
      "| Comp_Num|Comp_FR_Date|Comp_FR_Time|Comp_TO_Date|Comp_TO_TIME|Addr_PCT_CD|    RPT_DT|KY_DC|           OFNS_DESC|PD_CD|             PD_DESC|Crime_Completed| LAW_CAT_CD|  BORO_NM|LOC_OF_OCCUR|           PREM_TYPE|      JURIS_DESC|JURIS_CODE|PARKS_NM|HADEVELOPT|HOUSING_PSA|X_COORD_CD|Y_COORD_CD|SUSP_AGE_GROUP|SUSP_RACE|SUSP_SEX|TRANS_DIST|    Latitude|    Longitude|             Lat_Lon|         PATROL_BORO|STATION_NAME|VIC_AGE_GROUP|VIC_RACE|VIC_SEX|\n",
      "+---------+------------+------------+------------+------------+-----------+----------+-----+--------------------+-----+--------------------+---------------+-----------+---------+------------+--------------------+----------------+----------+--------+----------+-----------+----------+----------+--------------+---------+--------+----------+------------+-------------+--------------------+--------------------+------------+-------------+--------+-------+\n",
      "|595775572|  10/30/2008|    12:00:00|        null|        null|         75|10/30/2008|  109|       GRAND LARCENY|  415|LARCENY,GRAND FRO...|      COMPLETED|     FELONY| BROOKLYN|        null|              STREET|N.Y. POLICE DEPT|         0|      NA|      null|         NA|   1012249|    181792|          null|    BLACK|       F|      null|40.665617714|-73.899076401|(40.665617714, -7...|PATROL BORO BKLYN...|        null|          <18|   BLACK|      F|\n",
      "|375177250|  10/30/2008|    12:00:00|  10/30/2008|    12:12:00|         14|10/30/2008|  341|       PETIT LARCENY|  333|LARCENY,PETIT FRO...|      COMPLETED|MISDEMEANOR|MANHATTAN|      INSIDE|    DEPARTMENT STORE|N.Y. POLICE DEPT|         0|      NA|      null|         NA|    986455|    213102|          null|     null|    null|      null|40.751600254|-73.992043061|(40.751600254, -7...|PATROL BORO MAN S...|        null|         null| UNKNOWN|      D|\n",
      "|513357035|  10/30/2008|    12:00:00|  10/30/2008|    13:30:00|         77|10/30/2008|  351|CRIMINAL MISCHIEF...|  254|MISCHIEF, CRIMINA...|      COMPLETED|MISDEMEANOR| BROOKLYN|      INSIDE|              STREET|N.Y. POLICE DEPT|         0|      NA|      null|         NA|    997769|    185912|          null|     null|    null|      null|40.676960141|-73.951262652|(40.676960141, -7...|PATROL BORO BKLYN...|        null|        25-44|   WHITE|      M|\n",
      "|508797540|  10/30/2008|    11:55:00|        null|        null|         47|10/30/2008|  117|     DANGEROUS DRUGS|  568|MARIJUANA, POSSES...|      COMPLETED|     FELONY|    BRONX|      INSIDE|     RESIDENCE-HOUSE|N.Y. POLICE DEPT|         0|      NA|      null|         NA|   1028599|    258289|          null|     null|    null|      null|40.875514819|-73.839636601|(40.875514819, -7...|   PATROL BORO BRONX|        null|         null| UNKNOWN|      E|\n",
      "|539937322|  10/30/2008|    11:55:00|  10/30/2008|    12:15:00|         67|10/30/2008|  126|MISCELLANEOUS PEN...|  198| CRIMINAL CONTEMPT 1|      COMPLETED|     FELONY| BROOKLYN|      INSIDE|RESIDENCE - APT. ...|N.Y. POLICE DEPT|         0|      NA|      null|         NA|    998504|    173213|          null|     null|    null|      null|40.642103028|-73.948639667|(40.642103028, -7...|PATROL BORO BKLYN...|        null|        18-24|   BLACK|      F|\n",
      "+---------+------------+------------+------------+------------+-----------+----------+-----+--------------------+-----+--------------------+---------------+-----------+---------+------------+--------------------+----------------+----------+--------+----------+-----------+----------+----------+--------------+---------+--------+----------+------------+-------------+--------------------+--------------------+------------+-------------+--------+-------+\n",
      "only showing top 5 rows\n",
      "\n"
     ]
    }
   ],
   "source": [
    "cols = [\"Comp_Num\", \"Comp_FR_Date\", \"Comp_FR_Time\", \"Comp_TO_Date\", \"Comp_TO_TIME\", \"Addr_PCT_CD\",\\\n",
    "       \"RPT_DT\", \"KY_DC\", \"OFNS_DESC\", \"PD_CD\", \"PD_DESC\", \"Crime_Completed\", \"LAW_CAT_CD\", \"BORO_NM\",\\\n",
    "        \"LOC_OF_OCCUR\", \"PREM_TYPE\", \"JURIS_DESC\", \"JURIS_CODE\", \"PARKS_NM\", \"HADEVELOPT\", \"HOUSING_PSA\",\\\n",
    "       \"X_COORD_CD\", \"Y_COORD_CD\", \"SUSP_AGE_GROUP\", \"SUSP_RACE\", \"SUSP_SEX\", \"TRANS_DIST\", \"Latitude\",\\\n",
    "       \"Longitude\", \"Lat_Lon\", \"PATROL_BORO\", \"STATION_NAME\", \"VIC_AGE_GROUP\", \"VIC_RACE\", \"VIC_SEX\"]\n",
    "df = df.toDF(*cols)\n",
    "df.show(5)"
   ]
  },
  {
   "cell_type": "markdown",
   "metadata": {},
   "source": [
    "We can start off by immediately dropping the features which do not seem important. We will leave information on the time of the crime, information about the crime itself, and demographic information about the victim and the perpretrator."
   ]
  },
  {
   "cell_type": "code",
   "execution_count": 6,
   "metadata": {},
   "outputs": [],
   "source": [
    "drop_list = [\"Comp_FR_\", \"HADEVELOPT\", \"HOUSING_PSA\", \"JURIS_CODE\", \"JURIS_DESC\", \"LOC_OF_OCCUR\",\\\n",
    "            \"PARKS_NM\", \"PREM_TYPE\", \"RPT_DT\", \"STATION_NAME\", \"PATROL_BORO\", \"TRANS_DIST\",\\\n",
    "            \"X_COORD_CD\", \"Y_COORD_CD\", \"Addr_PCT_CD\", \"Lat_Lon\", \"Comp_TO_Date\", \"Comp_TO_TIME\",\\\n",
    "             \"KY_DC\", \"PD_CD\", \"PD_DESC\"]\n",
    "df = df.select([column for column in df.columns if column not in drop_list])"
   ]
  },
  {
   "cell_type": "code",
   "execution_count": 7,
   "metadata": {},
   "outputs": [
    {
     "name": "stdout",
     "output_type": "stream",
     "text": [
      "+---------+------------+------------+--------------------+---------------+-----------+---------+--------------+---------+--------+------------+-------------+-------------+--------+-------+\n",
      "| Comp_Num|Comp_FR_Date|Comp_FR_Time|           OFNS_DESC|Crime_Completed| LAW_CAT_CD|  BORO_NM|SUSP_AGE_GROUP|SUSP_RACE|SUSP_SEX|    Latitude|    Longitude|VIC_AGE_GROUP|VIC_RACE|VIC_SEX|\n",
      "+---------+------------+------------+--------------------+---------------+-----------+---------+--------------+---------+--------+------------+-------------+-------------+--------+-------+\n",
      "|595775572|  10/30/2008|    12:00:00|       GRAND LARCENY|      COMPLETED|     FELONY| BROOKLYN|          null|    BLACK|       F|40.665617714|-73.899076401|          <18|   BLACK|      F|\n",
      "|375177250|  10/30/2008|    12:00:00|       PETIT LARCENY|      COMPLETED|MISDEMEANOR|MANHATTAN|          null|     null|    null|40.751600254|-73.992043061|         null| UNKNOWN|      D|\n",
      "|513357035|  10/30/2008|    12:00:00|CRIMINAL MISCHIEF...|      COMPLETED|MISDEMEANOR| BROOKLYN|          null|     null|    null|40.676960141|-73.951262652|        25-44|   WHITE|      M|\n",
      "|508797540|  10/30/2008|    11:55:00|     DANGEROUS DRUGS|      COMPLETED|     FELONY|    BRONX|          null|     null|    null|40.875514819|-73.839636601|         null| UNKNOWN|      E|\n",
      "|539937322|  10/30/2008|    11:55:00|MISCELLANEOUS PEN...|      COMPLETED|     FELONY| BROOKLYN|          null|     null|    null|40.642103028|-73.948639667|        18-24|   BLACK|      F|\n",
      "+---------+------------+------------+--------------------+---------------+-----------+---------+--------------+---------+--------+------------+-------------+-------------+--------+-------+\n",
      "only showing top 5 rows\n",
      "\n"
     ]
    }
   ],
   "source": [
    "df.show(5)"
   ]
  },
  {
   "cell_type": "markdown",
   "metadata": {},
   "source": [
    "Let's now clean the data. Let's remove crimes with invalid date, time, and location data; as our intended visualization will involve maps and this invalid data makes up an extremely small proportion of the dataset, it makes more sense to just remove it."
   ]
  },
  {
   "cell_type": "code",
   "execution_count": 8,
   "metadata": {},
   "outputs": [],
   "source": [
    "df = df.where(df[\"Comp_FR_Date\"].isNotNull())\n",
    "df = df.where(df[\"Comp_FR_Time\"].isNotNull())\n",
    "df = df.where(df[\"Latitude\"].isNotNull())"
   ]
  },
  {
   "cell_type": "markdown",
   "metadata": {},
   "source": [
    "Let's now create a column that combines the date and time information into a single datetime column."
   ]
  },
  {
   "cell_type": "code",
   "execution_count": 9,
   "metadata": {},
   "outputs": [
    {
     "name": "stdout",
     "output_type": "stream",
     "text": [
      "+---------+------------+------------+--------------------+---------------+-----------+---------+--------------+---------+--------+------------+-------------+-------------+--------------+-------+-------------------+\n",
      "| Comp_Num|Comp_FR_Date|Comp_FR_Time|           OFNS_DESC|Crime_Completed| LAW_CAT_CD|  BORO_NM|SUSP_AGE_GROUP|SUSP_RACE|SUSP_SEX|    Latitude|    Longitude|VIC_AGE_GROUP|      VIC_RACE|VIC_SEX|               Date|\n",
      "+---------+------------+------------+--------------------+---------------+-----------+---------+--------------+---------+--------+------------+-------------+-------------+--------------+-------+-------------------+\n",
      "|100027190|  08/01/2008|    17:23:00|       PETIT LARCENY|      COMPLETED|MISDEMEANOR|MANHATTAN|          null|     null|    null|40.747327396|-73.976961498|         null|       UNKNOWN|      D|2008-08-01 17:23:00|\n",
      "|100030303|  06/23/2016|    21:00:00|       GRAND LARCENY|      COMPLETED|     FELONY|    BRONX|          null|     null|    null|40.863838685|-73.833692208|        25-44|WHITE HISPANIC|      F|2016-06-23 21:00:00|\n",
      "|100047377|  07/10/2015|    23:35:00|MISCELLANEOUS PEN...|      COMPLETED|     FELONY| BROOKLYN|          null|  UNKNOWN|       U|40.674601815|-73.938614149|        25-44|         BLACK|      F|2015-07-10 23:35:00|\n",
      "|100065606|  11/09/2009|    09:07:00|            BURGLARY|      COMPLETED|     FELONY|    BRONX|          null|     null|    null|40.841944334|-73.914248556|         null|       UNKNOWN|      D|2009-11-09 09:07:00|\n",
      "|100109619|  01/29/2012|    16:15:00|ASSAULT 3 & RELAT...|      COMPLETED|MISDEMEANOR|    BRONX|          null|     null|    null|40.885739104|-73.856548167|        18-24|WHITE HISPANIC|      F|2012-01-29 16:15:00|\n",
      "+---------+------------+------------+--------------------+---------------+-----------+---------+--------------+---------+--------+------------+-------------+-------------+--------------+-------+-------------------+\n",
      "only showing top 5 rows\n",
      "\n"
     ]
    }
   ],
   "source": [
    "df.registerTempTable(\"df\")\n",
    "date = spark.sql(\"SELECT Comp_Num, CONCAT(Comp_FR_Date, ' ',  Comp_FR_Time) as Date FROM df\")\n",
    "df = df.join(date, [\"Comp_Num\"])\n",
    "df = df.withColumn(\"Date\", to_timestamp(df.Date, 'MM/dd/yyyy HH:mm:ss'))\n",
    "df.show(5)"
   ]
  },
  {
   "cell_type": "markdown",
   "metadata": {},
   "source": [
    "Let's now drop the old date and time columns, and write this to a parquet. This contains all of the information that we will need at the moment. In addition to this, our dataset only proports to be from 2006-2017; thus, let's also remove any rows with dates that are less than 2006."
   ]
  },
  {
   "cell_type": "code",
   "execution_count": 10,
   "metadata": {},
   "outputs": [],
   "source": [
    "df = df.drop(\"Comp_FR_Date\").drop(\"Comp_FR_Time\")\n",
    "df = df.filter(df.Date >= lit(\"2006-01-01\"))\n",
    "df.write.mode(\"overwrite\").parquet(data_folder + \"nypd_filtered.parquet\")"
   ]
  },
  {
   "cell_type": "markdown",
   "metadata": {},
   "source": [
    "Loading the data again, we can now proceed with analysis of the data.\n",
    "\n",
    "#### Crime Dataset Data Analysis"
   ]
  },
  {
   "cell_type": "code",
   "execution_count": 11,
   "metadata": {},
   "outputs": [],
   "source": [
    "df = spark.read.parquet(data_folder + \"nypd_filtered.parquet\")"
   ]
  },
  {
   "cell_type": "code",
   "execution_count": 12,
   "metadata": {},
   "outputs": [
    {
     "name": "stdout",
     "output_type": "stream",
     "text": [
      "+---------+--------------------+---------------+-----------+---------+--------------+--------------+--------+------------+-------------+-------------+--------------+-------+-------------------+\n",
      "| Comp_Num|           OFNS_DESC|Crime_Completed| LAW_CAT_CD|  BORO_NM|SUSP_AGE_GROUP|     SUSP_RACE|SUSP_SEX|    Latitude|    Longitude|VIC_AGE_GROUP|      VIC_RACE|VIC_SEX|               Date|\n",
      "+---------+--------------------+---------------+-----------+---------+--------------+--------------+--------+------------+-------------+-------------+--------------+-------+-------------------+\n",
      "|100003098|OFFENSES AGAINST ...|      COMPLETED|MISDEMEANOR|MANHATTAN|         25-44|BLACK HISPANIC|       M|40.811130194|-73.936714506|        25-44|WHITE HISPANIC|      F|2014-10-02 13:40:00|\n",
      "|100023642|CRIMINAL MISCHIEF...|      COMPLETED|     FELONY|    BRONX|         18-24|         BLACK|       M|40.791151867|-73.884371919|         null|       UNKNOWN|      E|2013-11-09 19:15:00|\n",
      "|100038353|      FELONY ASSAULT|      COMPLETED|     FELONY|    BRONX|          null|          null|    null|40.810033244|-73.916616065|        25-44|         BLACK|      M|2008-11-25 12:47:00|\n",
      "|100050495|     DANGEROUS DRUGS|      COMPLETED|     FELONY| BROOKLYN|          null|          null|    null| 40.67500776|-74.006577149|         null|       UNKNOWN|      E|2006-08-01 09:20:00|\n",
      "|100077904|       PETIT LARCENY|      COMPLETED|MISDEMEANOR| BROOKLYN|          null|          null|    null|40.684461543| -73.97775121|         null|       UNKNOWN|      D|2012-06-04 11:33:00|\n",
      "+---------+--------------------+---------------+-----------+---------+--------------+--------------+--------+------------+-------------+-------------+--------------+-------+-------------------+\n",
      "only showing top 5 rows\n",
      "\n"
     ]
    }
   ],
   "source": [
    "df.show(5)"
   ]
  },
  {
   "cell_type": "markdown",
   "metadata": {},
   "source": [
    "Let's first examine the offense descriptions, by finding the top ten most commonly occurring crimes."
   ]
  },
  {
   "cell_type": "code",
   "execution_count": 13,
   "metadata": {
    "scrolled": false
   },
   "outputs": [
    {
     "data": {
      "text/html": [
       "<div>\n",
       "<style scoped>\n",
       "    .dataframe tbody tr th:only-of-type {\n",
       "        vertical-align: middle;\n",
       "    }\n",
       "\n",
       "    .dataframe tbody tr th {\n",
       "        vertical-align: top;\n",
       "    }\n",
       "\n",
       "    .dataframe thead th {\n",
       "        text-align: right;\n",
       "    }\n",
       "</style>\n",
       "<table border=\"1\" class=\"dataframe\">\n",
       "  <thead>\n",
       "    <tr style=\"text-align: right;\">\n",
       "      <th></th>\n",
       "      <th>OFNS_DESC</th>\n",
       "      <th>category</th>\n",
       "      <th>count</th>\n",
       "    </tr>\n",
       "  </thead>\n",
       "  <tbody>\n",
       "    <tr>\n",
       "      <th>0</th>\n",
       "      <td>PETIT LARCENY</td>\n",
       "      <td>MISDEMEANOR</td>\n",
       "      <td>981460</td>\n",
       "    </tr>\n",
       "    <tr>\n",
       "      <th>1</th>\n",
       "      <td>HARRASSMENT 2</td>\n",
       "      <td>VIOLATION</td>\n",
       "      <td>732754</td>\n",
       "    </tr>\n",
       "    <tr>\n",
       "      <th>2</th>\n",
       "      <td>ASSAULT 3 &amp; RELATED OFFENSES</td>\n",
       "      <td>MISDEMEANOR</td>\n",
       "      <td>622173</td>\n",
       "    </tr>\n",
       "    <tr>\n",
       "      <th>3</th>\n",
       "      <td>CRIMINAL MISCHIEF &amp; RELATED OF</td>\n",
       "      <td>FELONY</td>\n",
       "      <td>600613</td>\n",
       "    </tr>\n",
       "    <tr>\n",
       "      <th>4</th>\n",
       "      <td>GRAND LARCENY</td>\n",
       "      <td>FELONY</td>\n",
       "      <td>510969</td>\n",
       "    </tr>\n",
       "  </tbody>\n",
       "</table>\n",
       "</div>"
      ],
      "text/plain": [
       "                        OFNS_DESC     category   count\n",
       "0                   PETIT LARCENY  MISDEMEANOR  981460\n",
       "1                   HARRASSMENT 2    VIOLATION  732754\n",
       "2    ASSAULT 3 & RELATED OFFENSES  MISDEMEANOR  622173\n",
       "3  CRIMINAL MISCHIEF & RELATED OF       FELONY  600613\n",
       "4                   GRAND LARCENY       FELONY  510969"
      ]
     },
     "execution_count": 13,
     "metadata": {},
     "output_type": "execute_result"
    }
   ],
   "source": [
    "df.registerTempTable(\"df\")\n",
    "query = \"\"\"select OFNS_DESC, min(LAW_CAT_CD) as category, count(OFNS_DESC) as count \n",
    "    from df\n",
    "    group by ofns_desc\n",
    "    order by count desc\n",
    "    limit 10\"\"\"\n",
    "most_common = spark.sql(query).toPandas()\n",
    "most_common.head()"
   ]
  },
  {
   "cell_type": "code",
   "execution_count": null,
   "metadata": {},
   "outputs": [],
   "source": []
  },
  {
   "cell_type": "code",
   "execution_count": 14,
   "metadata": {},
   "outputs": [
    {
     "data": {
      "text/plain": [
       "<matplotlib.legend.Legend at 0x7fa62b526940>"
      ]
     },
     "execution_count": 14,
     "metadata": {},
     "output_type": "execute_result"
    },
    {
     "data": {
      "text/plain": [
       "<Figure size 432x288 with 0 Axes>"
      ]
     },
     "metadata": {},
     "output_type": "display_data"
    },
    {
     "data": {
      "image/png": "[encoded data removed]",
      "text/plain": [
       "<Figure size 720x432 with 1 Axes>"
      ]
     },
     "metadata": {
      "needs_background": "light"
     },
     "output_type": "display_data"
    }
   ],
   "source": [
    "most_common.loc[3, \"OFNS_DESC\"] = \"CRIMINAL MISCHIEF\"\n",
    "most_common.loc[6, \"OFNS_DESC\"] = \"OFF. AGNST PUBLIC ORDER\"\n",
    "most_common.loc[1, \"OFNS_DESC\"] = \"HARASSMENT 2\"\n",
    "\n",
    "# set colors\n",
    "most_common.loc[most_common.category == \"VIOLATION\", \"category\"] = \"gold\"\n",
    "most_common.loc[most_common.category == \"MISDEMEANOR\", \"category\"] = \"C1\"\n",
    "most_common.loc[most_common.category == \"FELONY\", \"category\"] = \"r\"\n",
    "\n",
    "# Dummy plots to create legend\n",
    "red = plt.bar([1], [1], color=\"red\")\n",
    "gold = plt.bar([1], [1], color=\"gold\")\n",
    "orange = plt.bar([1], [1], color=\"C1\")\n",
    "plt.clf()\n",
    "\n",
    "# reverse dataframe so graph is correct\n",
    "most_common = most_common.iloc[::-1].reset_index(drop=True)\n",
    "fig, ax = plt.subplots(figsize=(10,6))\n",
    "plt.title(\"Most Commonly Committed Crimes\")\n",
    "plt.xlabel(\"Number of Crimes Committed from 2006-2017\")\n",
    "plt.barh(most_common[\"OFNS_DESC\"], most_common[\"count\"], color=most_common[\"category\"])\n",
    "plt.legend((gold, orange, red), ('Violations', 'Misdemeanors', 'Felonies'))"
   ]
  },
  {
   "cell_type": "markdown",
   "metadata": {},
   "source": [
    "As can be seen, the most common crime committed is petit larceny, which New York defines to be the theft of objects with monetary value of no more than 1000 dollars. Grand larceny is also on the list, which is for items of value greater than 1000 dollars. Most of the items on the list are felonies (the most severe crimes), while only a few are misdemeanors (the least severe crime category). There is only one of the middle category on the list. Let's now examine the counts of the three categories in total."
   ]
  },
  {
   "cell_type": "code",
   "execution_count": 15,
   "metadata": {},
   "outputs": [
    {
     "name": "stdout",
     "output_type": "stream",
     "text": [
      "+-----------+-------+\n",
      "| LAW_CAT_CD|  count|\n",
      "+-----------+-------+\n",
      "|MISDEMEANOR|3414803|\n",
      "|     FELONY|1839034|\n",
      "|  VIOLATION| 745632|\n",
      "+-----------+-------+\n",
      "\n"
     ]
    }
   ],
   "source": [
    "df.groupBy(\"LAW_CAT_CD\").count().sort(col(\"count\").desc()).show()"
   ]
  },
  {
   "cell_type": "markdown",
   "metadata": {},
   "source": [
    "The majority of crimes committed are misdemeanors. Only 745,000 violations were committed over this timeframe, and 733,000 of them were in the \"harassment 2\" category, which corresponds with harrassment in the 2nd degree. Otherwise, we can see that nearly 1/3 of the felonies are criminal mischief charges, with grand larceny also taking up a similar proportion. \n",
    "\n",
    "Let's now look at the count per borough."
   ]
  },
  {
   "cell_type": "code",
   "execution_count": 16,
   "metadata": {},
   "outputs": [
    {
     "data": {
      "text/plain": [
       "<BarContainer object of 5 artists>"
      ]
     },
     "execution_count": 16,
     "metadata": {},
     "output_type": "execute_result"
    },
    {
     "data": {
      "image/png": "[encoded data removed]",
      "text/plain": [
       "<Figure size 720x432 with 1 Axes>"
      ]
     },
     "metadata": {
      "needs_background": "light"
     },
     "output_type": "display_data"
    }
   ],
   "source": [
    "borough_counts = df.filter(year(df[\"Date\"]) == 2017).groupBy(\"BORO_NM\").count().sort(col(\"count\").desc())\n",
    "borough_counts = borough_counts.toPandas()\n",
    "borough_counts = borough_counts.drop(5) # drop null values\n",
    "\n",
    "# capitalize borough names properly\n",
    "borough_counts[\"BORO_NM\"] = borough_counts[\"BORO_NM\"].apply(lambda x: x.lower().title())\n",
    "\n",
    "# plot borough counts\n",
    "fig, ax = plt.subplots(figsize=(10,6))\n",
    "plt.title(\"Total Crimes per Borough, 2017\")\n",
    "plt.ylabel(\"Total Crimes\")\n",
    "plt.xlabel(\"Borough Name\")\n",
    "plt.bar(borough_counts[\"BORO_NM\"], borough_counts[\"count\"])"
   ]
  },
  {
   "cell_type": "markdown",
   "metadata": {},
   "source": [
    "Brooklyn has the most crimes committed by a decent margin, followed by Manhattan, the Bronx, and Queens. Staten Island is far behind, which makes sense due to its smaller size and population. Let's now examine how much crime happens in different hours of the day."
   ]
  },
  {
   "cell_type": "code",
   "execution_count": 17,
   "metadata": {},
   "outputs": [
    {
     "data": {
      "text/plain": [
       "([<matplotlib.axis.XTick at 0x7fa628c2ac18>,\n",
       "  <matplotlib.axis.XTick at 0x7fa628c2b978>,\n",
       "  <matplotlib.axis.XTick at 0x7fa628c2b6a0>,\n",
       "  <matplotlib.axis.XTick at 0x7fa628be0c18>,\n",
       "  <matplotlib.axis.XTick at 0x7fa628be9160>,\n",
       "  <matplotlib.axis.XTick at 0x7fa628be95f8>,\n",
       "  <matplotlib.axis.XTick at 0x7fa628be9ac8>,\n",
       "  <matplotlib.axis.XTick at 0x7fa628be9e80>,\n",
       "  <matplotlib.axis.XTick at 0x7fa628be9550>,\n",
       "  <matplotlib.axis.XTick at 0x7fa628be9470>,\n",
       "  <matplotlib.axis.XTick at 0x7fa628bef860>,\n",
       "  <matplotlib.axis.XTick at 0x7fa628befd68>],\n",
       " <a list of 12 Text xticklabel objects>)"
      ]
     },
     "execution_count": 17,
     "metadata": {},
     "output_type": "execute_result"
    },
    {
     "data": {
      "image/png": "[encoded data removed]",
      "text/plain": [
       "<Figure size 720x432 with 1 Axes>"
      ]
     },
     "metadata": {
      "needs_background": "light"
     },
     "output_type": "display_data"
    }
   ],
   "source": [
    "years = df.select(year(\"Date\").alias(\"Year\"))\n",
    "years = years.groupBy(\"Year\").count().orderBy(asc(\"Year\")).toPandas()\n",
    "# Plot year data\n",
    "fig, ax = plt.subplots(figsize=(10,6))\n",
    "plt.title(\"Total Number of Crimes in NYC per Year, 2006-2017\")\n",
    "plt.xlabel(\"Year\")\n",
    "plt.ylabel(\"Number of Crimes\")\n",
    "plt.bar(years[\"Year\"], years[\"count\"])\n",
    "plt.xticks(np.arange(2006, 2018))"
   ]
  },
  {
   "cell_type": "markdown",
   "metadata": {},
   "source": [
    "We observe that there is a downward trend for the crimes committed per year. Let's now examine patterns over smaller ranges of time, starting with the hour of the day."
   ]
  },
  {
   "cell_type": "code",
   "execution_count": 18,
   "metadata": {},
   "outputs": [
    {
     "name": "stdout",
     "output_type": "stream",
     "text": [
      "+----+------+\n",
      "|Hour| count|\n",
      "+----+------+\n",
      "|   0|284045|\n",
      "|   1|206995|\n",
      "|   2|165946|\n",
      "|   3|139862|\n",
      "|   4|122590|\n",
      "|   5| 85913|\n",
      "|   6| 87574|\n",
      "|   7|124400|\n",
      "|   8|201464|\n",
      "|   9|221439|\n",
      "|  10|230515|\n",
      "|  11|236269|\n",
      "|  12|329199|\n",
      "|  13|282808|\n",
      "|  14|319956|\n",
      "|  15|361601|\n",
      "|  16|344267|\n",
      "|  17|345283|\n",
      "|  18|354435|\n",
      "|  19|342792|\n",
      "+----+------+\n",
      "only showing top 20 rows\n",
      "\n"
     ]
    }
   ],
   "source": [
    "hours = df.select(\"Date\", \"LAW_CAT_CD\").withColumn(\"Hour\", hour(df.Date)).drop(\"Date\")\n",
    "hours.groupBy(\"Hour\").count().sort(col(\"Hour\").asc()).show()"
   ]
  },
  {
   "cell_type": "markdown",
   "metadata": {},
   "source": [
    "We can see from this table that the amount of crimes starts off fairly high, decreases as the night goes on,  and heats a peak in the mid-afternoon. Let's plot this data, along with the trends for each individual crime type."
   ]
  },
  {
   "cell_type": "code",
   "execution_count": 19,
   "metadata": {},
   "outputs": [],
   "source": [
    "total = hours.groupBy(\"Hour\").count().sort(col(\"Hour\").asc())\n",
    "categories = hours.groupBy(\"Hour\", \"LAW_CAT_CD\").count().orderBy(col(\"Hour\").asc(), \"LAW_CAT_CD\")\n",
    "total = total.toPandas()\n",
    "categories = categories.toPandas()"
   ]
  },
  {
   "cell_type": "code",
   "execution_count": 20,
   "metadata": {
    "scrolled": true
   },
   "outputs": [
    {
     "data": {
      "text/plain": [
       "<BarContainer object of 24 artists>"
      ]
     },
     "execution_count": 20,
     "metadata": {},
     "output_type": "execute_result"
    },
    {
     "data": {
      "image/png": "[encoded data removed]",
      "text/plain": [
       "<Figure size 720x432 with 1 Axes>"
      ]
     },
     "metadata": {
      "needs_background": "light"
     },
     "output_type": "display_data"
    }
   ],
   "source": [
    "fig, ax = plt.subplots(figsize=(10,6))\n",
    "plt.title(\"Total Number of Crimes per Hour of Day\")\n",
    "plt.xlabel(\"Hour of the Day\")\n",
    "plt.ylabel(\"Number of Crimes\")\n",
    "plt.bar(total[\"Hour\"], total[\"count\"])"
   ]
  },
  {
   "cell_type": "code",
   "execution_count": 21,
   "metadata": {},
   "outputs": [
    {
     "data": {
      "text/plain": [
       "<matplotlib.legend.Legend at 0x7fa628c28780>"
      ]
     },
     "execution_count": 21,
     "metadata": {},
     "output_type": "execute_result"
    },
    {
     "data": {
      "image/png": "[encoded data removed]",
      "text/plain": [
       "<Figure size 720x432 with 1 Axes>"
      ]
     },
     "metadata": {
      "needs_background": "light"
     },
     "output_type": "display_data"
    }
   ],
   "source": [
    "felonies = categories[categories.LAW_CAT_CD == \"FELONY\"].reset_index(drop=True)\n",
    "misdemeanors = categories[categories.LAW_CAT_CD == \"MISDEMEANOR\"].reset_index(drop=True)\n",
    "violations = categories[categories.LAW_CAT_CD == \"VIOLATION\"].reset_index(drop=True)\n",
    "\n",
    "fig, ax = plt.subplots(figsize=(10,6))\n",
    "plt.title(\"Total Number of Crimes per Hour of Day (Per Category)\")\n",
    "plt.xlabel(\"Hour of the Day\")\n",
    "plt.ylabel(\"Number of Crimes Committed\")\n",
    "\n",
    "p1 = plt.bar(misdemeanors[\"Hour\"], misdemeanors[\"count\"], color=\"C1\")\n",
    "p2 = plt.bar(felonies[\"Hour\"], felonies[\"count\"], bottom=misdemeanors[\"count\"], color=\"red\")\n",
    "p3 = plt.bar(violations[\"Hour\"], violations[\"count\"], bottom=(misdemeanors[\"count\"] + felonies[\"count\"]), color=\"gold\")\n",
    "plt.legend((p3[0], p1[0], p2[0]), ('Violations', 'Misdemeanors', 'Felonies'))"
   ]
  },
  {
   "cell_type": "markdown",
   "metadata": {},
   "source": [
    "The individual categories follow a similar trend as the total. There is a consistent ordering between the number of misdemeanors, felonies, and violations for every hour. Let's see if we can find anything for the months of the year."
   ]
  },
  {
   "cell_type": "code",
   "execution_count": 22,
   "metadata": {},
   "outputs": [
    {
     "data": {
      "text/html": [
       "<div>\n",
       "<style scoped>\n",
       "    .dataframe tbody tr th:only-of-type {\n",
       "        vertical-align: middle;\n",
       "    }\n",
       "\n",
       "    .dataframe tbody tr th {\n",
       "        vertical-align: top;\n",
       "    }\n",
       "\n",
       "    .dataframe thead th {\n",
       "        text-align: right;\n",
       "    }\n",
       "</style>\n",
       "<table border=\"1\" class=\"dataframe\">\n",
       "  <thead>\n",
       "    <tr style=\"text-align: right;\">\n",
       "      <th></th>\n",
       "      <th>Month</th>\n",
       "      <th>count</th>\n",
       "    </tr>\n",
       "  </thead>\n",
       "  <tbody>\n",
       "    <tr>\n",
       "      <th>9</th>\n",
       "      <td>Jan</td>\n",
       "      <td>488878</td>\n",
       "    </tr>\n",
       "    <tr>\n",
       "      <th>6</th>\n",
       "      <td>Feb</td>\n",
       "      <td>428642</td>\n",
       "    </tr>\n",
       "    <tr>\n",
       "      <th>8</th>\n",
       "      <td>Mar</td>\n",
       "      <td>494097</td>\n",
       "    </tr>\n",
       "    <tr>\n",
       "      <th>10</th>\n",
       "      <td>Apr</td>\n",
       "      <td>475603</td>\n",
       "    </tr>\n",
       "    <tr>\n",
       "      <th>4</th>\n",
       "      <td>May</td>\n",
       "      <td>528117</td>\n",
       "    </tr>\n",
       "  </tbody>\n",
       "</table>\n",
       "</div>"
      ],
      "text/plain": [
       "   Month   count\n",
       "9    Jan  488878\n",
       "6    Feb  428642\n",
       "8    Mar  494097\n",
       "10   Apr  475603\n",
       "4    May  528117"
      ]
     },
     "execution_count": 22,
     "metadata": {},
     "output_type": "execute_result"
    }
   ],
   "source": [
    "months = df.select(date_format('Date', 'MMM').alias(\"Month\"), col(\"LAW_CAT_CD\").alias(\"Category\"))\n",
    "month_counts = months.groupBy(\"Month\").count()\n",
    "month_counts = month_counts.toPandas()\n",
    "month_counts['Month'] = pd.Categorical(month_counts[\"Month\"], categories=['Jan', 'Feb', 'Mar', 'Apr', 'May', 'Jun', 'Jul', 'Aug', 'Sep', 'Oct', 'Nov', 'Dec'], ordered=True)\n",
    "month_counts = month_counts.sort_values(by=[\"Month\"])\n",
    "month_counts.head()"
   ]
  },
  {
   "cell_type": "code",
   "execution_count": 23,
   "metadata": {},
   "outputs": [
    {
     "data": {
      "text/plain": [
       "<BarContainer object of 12 artists>"
      ]
     },
     "execution_count": 23,
     "metadata": {},
     "output_type": "execute_result"
    },
    {
     "data": {
      "image/png": "[encoded data removed]",
      "text/plain": [
       "<Figure size 720x432 with 1 Axes>"
      ]
     },
     "metadata": {
      "needs_background": "light"
     },
     "output_type": "display_data"
    }
   ],
   "source": [
    "fig, ax = plt.subplots(figsize=(10,6))\n",
    "plt.title(\"Total Number of Crimes per Month, 2006-2017\")\n",
    "plt.xlabel(\"Month\")\n",
    "plt.ylabel(\"Number of Crimes\")\n",
    "plt.bar(month_counts[\"Month\"], month_counts[\"count\"])"
   ]
  },
  {
   "cell_type": "markdown",
   "metadata": {},
   "source": [
    "We observe a slight downtick in the November through April range, which corresponds to colder temperatures."
   ]
  },
  {
   "cell_type": "code",
   "execution_count": 24,
   "metadata": {},
   "outputs": [
    {
     "data": {
      "text/html": [
       "<div>\n",
       "<style scoped>\n",
       "    .dataframe tbody tr th:only-of-type {\n",
       "        vertical-align: middle;\n",
       "    }\n",
       "\n",
       "    .dataframe tbody tr th {\n",
       "        vertical-align: top;\n",
       "    }\n",
       "\n",
       "    .dataframe thead th {\n",
       "        text-align: right;\n",
       "    }\n",
       "</style>\n",
       "<table border=\"1\" class=\"dataframe\">\n",
       "  <thead>\n",
       "    <tr style=\"text-align: right;\">\n",
       "      <th></th>\n",
       "      <th>Month</th>\n",
       "      <th>Category</th>\n",
       "      <th>count</th>\n",
       "    </tr>\n",
       "  </thead>\n",
       "  <tbody>\n",
       "    <tr>\n",
       "      <th>3</th>\n",
       "      <td>Jan</td>\n",
       "      <td>VIOLATION</td>\n",
       "      <td>58587</td>\n",
       "    </tr>\n",
       "    <tr>\n",
       "      <th>21</th>\n",
       "      <td>Jan</td>\n",
       "      <td>MISDEMEANOR</td>\n",
       "      <td>279227</td>\n",
       "    </tr>\n",
       "    <tr>\n",
       "      <th>22</th>\n",
       "      <td>Jan</td>\n",
       "      <td>FELONY</td>\n",
       "      <td>151064</td>\n",
       "    </tr>\n",
       "    <tr>\n",
       "      <th>9</th>\n",
       "      <td>Feb</td>\n",
       "      <td>VIOLATION</td>\n",
       "      <td>51973</td>\n",
       "    </tr>\n",
       "    <tr>\n",
       "      <th>29</th>\n",
       "      <td>Feb</td>\n",
       "      <td>MISDEMEANOR</td>\n",
       "      <td>248509</td>\n",
       "    </tr>\n",
       "  </tbody>\n",
       "</table>\n",
       "</div>"
      ],
      "text/plain": [
       "   Month     Category   count\n",
       "3    Jan    VIOLATION   58587\n",
       "21   Jan  MISDEMEANOR  279227\n",
       "22   Jan       FELONY  151064\n",
       "9    Feb    VIOLATION   51973\n",
       "29   Feb  MISDEMEANOR  248509"
      ]
     },
     "execution_count": 24,
     "metadata": {},
     "output_type": "execute_result"
    }
   ],
   "source": [
    "month_cats = months.groupBy([\"Month\", \"Category\"]).count()\n",
    "month_cats = month_cats.toPandas()\n",
    "month_cats['Month'] = pd.Categorical(month_cats[\"Month\"], categories=['Jan', 'Feb', 'Mar', 'Apr', 'May', 'Jun', 'Jul', 'Aug', 'Sep', 'Oct', 'Nov', 'Dec'], ordered=True)\n",
    "month_cats['Category'] = pd.Categorical(month_cats[\"Category\"], categories=[\"VIOLATION\", \"MISDEMEANOR\", \"FELONY\"], ordered=True)\n",
    "month_cats = month_cats.sort_values(by=[\"Month\", \"Category\"])\n",
    "month_cats.head()"
   ]
  },
  {
   "cell_type": "markdown",
   "metadata": {},
   "source": [
    "We can convert the category names away from lowercase and create a stacked bar chart."
   ]
  },
  {
   "cell_type": "code",
   "execution_count": 25,
   "metadata": {},
   "outputs": [
    {
     "data": {
      "text/plain": [
       "<matplotlib.legend.Legend at 0x7fa628948fd0>"
      ]
     },
     "execution_count": 25,
     "metadata": {},
     "output_type": "execute_result"
    },
    {
     "data": {
      "image/png": "[encoded data removed]",
      "text/plain": [
       "<Figure size 432x288 with 1 Axes>"
      ]
     },
     "metadata": {
      "needs_background": "light"
     },
     "output_type": "display_data"
    }
   ],
   "source": [
    "felonies = month_cats[month_cats.Category == \"FELONY\"].reset_index(drop=True)\n",
    "misdemeanors = month_cats[month_cats.Category == \"MISDEMEANOR\"].reset_index(drop=True)\n",
    "violations = month_cats[month_cats.Category == \"VIOLATION\"].reset_index(drop=True)\n",
    "\n",
    "plt.title(\"Total Number of Crimes per Month (Per Category)\")\n",
    "plt.xlabel(\"Month\")\n",
    "plt.ylabel(\"Number of Crimes Committed\")\n",
    "\n",
    "p1 = plt.bar(misdemeanors[\"Month\"], misdemeanors[\"count\"])\n",
    "p2 = plt.bar(felonies[\"Month\"], felonies[\"count\"], bottom=misdemeanors[\"count\"], color=\"red\")\n",
    "p3 = plt.bar(violations[\"Month\"], violations[\"count\"], bottom=(misdemeanors[\"count\"] + felonies[\"count\"]), color=\"C1\")\n",
    "plt.legend((p1[0], p2[0], p3[0]), ('Misdemeanors', 'Felonies', 'Violations'))"
   ]
  },
  {
   "cell_type": "markdown",
   "metadata": {},
   "source": [
    "The proportions remain similar throughout all the months, and no notable trends emerge. Let's now see how crime counts break down for the day of the week and hour of the day combined."
   ]
  },
  {
   "cell_type": "code",
   "execution_count": 26,
   "metadata": {},
   "outputs": [
    {
     "name": "stdout",
     "output_type": "stream",
     "text": [
      "+---------------+----+\n",
      "|Day of the Week|Hour|\n",
      "+---------------+----+\n",
      "|            Thu|  13|\n",
      "|            Sat|  19|\n",
      "|            Tue|  12|\n",
      "|            Tue|   9|\n",
      "|            Mon|  11|\n",
      "+---------------+----+\n",
      "only showing top 5 rows\n",
      "\n"
     ]
    }
   ],
   "source": [
    "date = df.select(date_format('Date', 'E').alias('Day of the Week'), hour('Date').alias('Hour'))\n",
    "date.show(5)"
   ]
  },
  {
   "cell_type": "markdown",
   "metadata": {},
   "source": [
    "Each row represents the combination of day of the week and hour of the day for each crime committed. Let's now group by each combination and display."
   ]
  },
  {
   "cell_type": "code",
   "execution_count": 27,
   "metadata": {},
   "outputs": [
    {
     "data": {
      "text/html": [
       "<div>\n",
       "<style scoped>\n",
       "    .dataframe tbody tr th:only-of-type {\n",
       "        vertical-align: middle;\n",
       "    }\n",
       "\n",
       "    .dataframe tbody tr th {\n",
       "        vertical-align: top;\n",
       "    }\n",
       "\n",
       "    .dataframe thead th {\n",
       "        text-align: right;\n",
       "    }\n",
       "</style>\n",
       "<table border=\"1\" class=\"dataframe\">\n",
       "  <thead>\n",
       "    <tr style=\"text-align: right;\">\n",
       "      <th></th>\n",
       "      <th>Day of the Week</th>\n",
       "      <th>Hour</th>\n",
       "      <th>count</th>\n",
       "    </tr>\n",
       "  </thead>\n",
       "  <tbody>\n",
       "    <tr>\n",
       "      <th>40</th>\n",
       "      <td>Mon</td>\n",
       "      <td>0</td>\n",
       "      <td>35890</td>\n",
       "    </tr>\n",
       "    <tr>\n",
       "      <th>100</th>\n",
       "      <td>Mon</td>\n",
       "      <td>1</td>\n",
       "      <td>22814</td>\n",
       "    </tr>\n",
       "    <tr>\n",
       "      <th>16</th>\n",
       "      <td>Mon</td>\n",
       "      <td>2</td>\n",
       "      <td>17241</td>\n",
       "    </tr>\n",
       "    <tr>\n",
       "      <th>126</th>\n",
       "      <td>Mon</td>\n",
       "      <td>3</td>\n",
       "      <td>13836</td>\n",
       "    </tr>\n",
       "    <tr>\n",
       "      <th>15</th>\n",
       "      <td>Mon</td>\n",
       "      <td>4</td>\n",
       "      <td>12617</td>\n",
       "    </tr>\n",
       "  </tbody>\n",
       "</table>\n",
       "</div>"
      ],
      "text/plain": [
       "    Day of the Week  Hour  count\n",
       "40              Mon     0  35890\n",
       "100             Mon     1  22814\n",
       "16              Mon     2  17241\n",
       "126             Mon     3  13836\n",
       "15              Mon     4  12617"
      ]
     },
     "execution_count": 27,
     "metadata": {},
     "output_type": "execute_result"
    }
   ],
   "source": [
    "crime_times = date.groupBy([\"Day of the Week\", \"Hour\"]).count()\n",
    "crime_times = crime_times.toPandas()\n",
    "# add ordering for day of the week\n",
    "crime_times['Day of the Week'] = pd.Categorical(crime_times['Day of the Week'], categories=['Mon','Tue','Wed','Thu','Fri','Sat', 'Sun'], ordered=True)\n",
    "crime_times = crime_times.sort_values(by=[\"Day of the Week\", \"Hour\"])\n",
    "crime_times.head()"
   ]
  },
  {
   "cell_type": "markdown",
   "metadata": {},
   "source": [
    "We now have all the combinations for day of the week and hour of the day."
   ]
  },
  {
   "cell_type": "code",
   "execution_count": 28,
   "metadata": {},
   "outputs": [],
   "source": [
    "crime_times = crime_times.pivot(\"Day of the Week\", \"Hour\", \"count\")"
   ]
  },
  {
   "cell_type": "code",
   "execution_count": 29,
   "metadata": {
    "scrolled": false
   },
   "outputs": [
    {
     "data": {
      "text/plain": [
       "<matplotlib.axes._subplots.AxesSubplot at 0x7fa6288d47f0>"
      ]
     },
     "execution_count": 29,
     "metadata": {},
     "output_type": "execute_result"
    },
    {
     "data": {
      "image/png": "[encoded data removed]",
      "text/plain": [
       "<Figure size 720x432 with 2 Axes>"
      ]
     },
     "metadata": {
      "needs_background": "light"
     },
     "output_type": "display_data"
    }
   ],
   "source": [
    "fig, ax = plt.subplots(figsize=(10,6))         # Sample figsize in inches\n",
    "plt.title(\"Crimes per Hour of Day and Day of the Week\")\n",
    "sns.heatmap(crime_times, linewidths=.5, ax=ax, cmap=\"OrRd\")"
   ]
  }
 ],
 "metadata": {
  "kernelspec": {
   "display_name": "Python 3",
   "language": "python",
   "name": "python3"
  },
  "language_info": {
   "codemirror_mode": {
    "name": "ipython",
    "version": 3
   },
   "file_extension": ".py",
   "mimetype": "text/x-python",
   "name": "python",
   "nbconvert_exporter": "python",
   "pygments_lexer": "ipython3",
   "version": "3.6.7"
  }
 },
 "nbformat": 4,
 "nbformat_minor": 2
}
